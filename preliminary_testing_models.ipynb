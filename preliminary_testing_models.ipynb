{
 "cells": [
  {
   "cell_type": "code",
   "execution_count": 1,
   "metadata": {},
   "outputs": [],
   "source": [
    "import openai"
   ]
  },
  {
   "cell_type": "code",
   "execution_count": 2,
   "metadata": {},
   "outputs": [
    {
     "name": "stdout",
     "output_type": "stream",
     "text": [
      "Response:\n",
      "Привет! Как у тебя дела? 😊 \n",
      "\n",
      "Хочу узнать, о чём ты хочешь поговорить.  Может быть, тебе интересно обсудить погоду, или ты хочешь узнать больше о русской культуре? 🤔 \n",
      "\n",
      "\n",
      "(Hello! How are you doing? 😊 I want to know what you'd like to talk about. Maybe you're interested in discussing the weather, or you want to learn more about Russian culture? 🤔)\n"
     ]
    }
   ],
   "source": [
    "client = openai.OpenAI(\n",
    "    base_url=\"http://localhost:11434/v1\",\n",
    "    api_key=\"nokeyneeded\",\n",
    ")\n",
    "seed = 42\n",
    "response = client.chat.completions.create(\n",
    "    model=\"gemma2:9b\",\n",
    "    temperature=0.7,\n",
    "    max_tokens=256,\n",
    "    messages=[\n",
    "        {\"role\": \"system\", \"content\": \"You are a helpful assistant who is fluent in Russian.\"},\n",
    "        {\"role\": \"user\", \"content\": \"Напиши мне что-нибудь по-русски.\"},\n",
    "    ],\n",
    ")\n",
    "\n",
    "print(\"Response:\")\n",
    "print(response.choices[0].message.content)"
   ]
  },
  {
   "cell_type": "code",
   "execution_count": 3,
   "metadata": {},
   "outputs": [
    {
     "name": "stdout",
     "output_type": "stream",
     "text": [
      "Response:\n",
      "Конечно, я буду рад поговорить с тобой на русском языке! Как можно вам помочь сегодня?\n"
     ]
    }
   ],
   "source": [
    "client = openai.OpenAI(\n",
    "    base_url=\"http://localhost:11434/v1\",\n",
    "    api_key=\"nokeyneeded\",\n",
    ")\n",
    "\n",
    "response = client.chat.completions.create(\n",
    "    model=\"mistral-nemo:12b\",\n",
    "    temperature=0.7,\n",
    "    max_tokens=256,\n",
    "    messages=[\n",
    "        {\"role\": \"system\", \"content\": \"You are a helpful assistant who is fluent in Russian.\"},\n",
    "        {\"role\": \"user\", \"content\": \"Напиши мне что-нибудь по-русски.\"},\n",
    "    ],\n",
    ")\n",
    "\n",
    "print(\"Response:\")\n",
    "print(response.choices[0].message.content)"
   ]
  },
  {
   "cell_type": "code",
   "execution_count": 2,
   "metadata": {},
   "outputs": [
    {
     "name": "stdout",
     "output_type": "stream",
     "text": [
      "Response:\n",
      "Давайте поговорим! Как вы чувствовали себя сегодня? У вас был замечательный день или, может быть, всё было не так хорошо?\n"
     ]
    }
   ],
   "source": [
    "client = openai.OpenAI(\n",
    "    base_url=\"http://localhost:11434/v1\",\n",
    "    api_key=\"nokeyneeded\",\n",
    ")\n",
    "\n",
    "response = client.chat.completions.create(\n",
    "    model=\"llama3.1:8b\",\n",
    "    temperature=0.7,\n",
    "    max_tokens=256,\n",
    "    messages=[\n",
    "        {\"role\": \"system\", \"content\": \"You are a helpful assistant who is fluent in Russian.\"},\n",
    "        {\"role\": \"user\", \"content\": \"Напиши мне что-нибудь по-русски. Не переводи ответ на английский.\"},\n",
    "    ],\n",
    ")\n",
    "\n",
    "print(\"Response:\")\n",
    "print(response.choices[0].message.content)"
   ]
  }
 ],
 "metadata": {
  "kernelspec": {
   "display_name": "venv",
   "language": "python",
   "name": "python3"
  },
  "language_info": {
   "codemirror_mode": {
    "name": "ipython",
    "version": 3
   },
   "file_extension": ".py",
   "mimetype": "text/x-python",
   "name": "python",
   "nbconvert_exporter": "python",
   "pygments_lexer": "ipython3",
   "version": "3.11.7"
  }
 },
 "nbformat": 4,
 "nbformat_minor": 2
}
