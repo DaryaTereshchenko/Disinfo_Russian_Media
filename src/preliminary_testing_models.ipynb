{
 "cells": [
  {
   "cell_type": "code",
   "execution_count": 1,
   "metadata": {},
   "outputs": [
    {
     "data": {
      "text/plain": [
       "True"
      ]
     },
     "execution_count": 1,
     "metadata": {},
     "output_type": "execute_result"
    }
   ],
   "source": [
    "import openai\n",
    "import os\n",
    "from dotenv import load_dotenv\n",
    "load_dotenv()"
   ]
  },
  {
   "cell_type": "code",
   "execution_count": 4,
   "metadata": {},
   "outputs": [],
   "source": [
    "api_key = os.getenv('API_KEY')\n",
    "base_url = os.getenv('BASE_URL')\n",
    "\n",
    "client = openai.OpenAI(\n",
    "    base_url=base_url,\n",
    "    api_key=api_key,\n",
    ")"
   ]
  },
  {
   "cell_type": "code",
   "execution_count": 8,
   "metadata": {},
   "outputs": [
    {
     "name": "stdout",
     "output_type": "stream",
     "text": [
      "Response:\n",
      "The population of Paris is estimated to be around 2.1 million people within the city limits.  \n",
      "\n",
      "Keep in mind that this number can fluctuate, and larger metropolitan areas encompassing the surrounding suburbs would have a much higher population.\n"
     ]
    }
   ],
   "source": [
    "response = client.chat.completions.create(\n",
    "    model=\"gemma2:9b\",\n",
    "    temperature=0.7,\n",
    "    max_tokens=256,\n",
    "    messages=[\n",
    "        {\"role\": \"system\", \"content\": \"You are a helpful assistant who is fluent in Russian.\"},\n",
    "        {\"role\": \"user\", \"content\": \"Напиши мне что-нибудь по-русски.\"},\n",
    "        {\"role\": \"assistant\", \"content\": \"Конечно! Вот пример текста на русском языке.\"},\n",
    "        {\"role\": \"user\", \"content\": \"Как сказать 'hello' по-русски?\"},\n",
    "    ],\n",
    ")\n",
    "\n",
    "print(\"Response:\")\n",
    "print(response.choices[0].message.content)"
   ]
  },
  {
   "cell_type": "code",
   "execution_count": 3,
   "metadata": {},
   "outputs": [
    {
     "name": "stdout",
     "output_type": "stream",
     "text": [
      "Response:\n",
      "Конечно, я буду рад поговорить с тобой на русском языке! Как можно вам помочь сегодня?\n"
     ]
    }
   ],
   "source": [
    "response = client.chat.completions.create(\n",
    "    model=\"mistral-nemo:12b\",\n",
    "    temperature=0.7,\n",
    "    max_tokens=256,\n",
    "    messages=[\n",
    "        {\"role\": \"system\", \"content\": \"You are a helpful assistant who is fluent in Russian.\"},\n",
    "        {\"role\": \"user\", \"content\": \"Напиши мне что-нибудь по-русски.\"},\n",
    "    ],\n",
    ")\n",
    "\n",
    "print(\"Response:\")\n",
    "print(response.choices[0].message.content)"
   ]
  },
  {
   "cell_type": "code",
   "execution_count": 2,
   "metadata": {},
   "outputs": [
    {
     "name": "stdout",
     "output_type": "stream",
     "text": [
      "Response:\n",
      "Давайте поговорим! Как вы чувствовали себя сегодня? У вас был замечательный день или, может быть, всё было не так хорошо?\n"
     ]
    }
   ],
   "source": [
    "response = client.chat.completions.create(\n",
    "    model=\"llama3.1:8b\",\n",
    "    temperature=0.7,\n",
    "    max_tokens=256,\n",
    "    messages=[\n",
    "        {\"role\": \"system\", \"content\": \"You are a helpful assistant who is fluent in Russian.\"},\n",
    "        {\"role\": \"user\", \"content\": \"Напиши мне что-нибудь по-русски. Не переводи ответ на английский.\"},\n",
    "    ],\n",
    ")\n",
    "\n",
    "print(\"Response:\")\n",
    "print(response.choices[0].message.content)"
   ]
  }
 ],
 "metadata": {
  "kernelspec": {
   "display_name": "venv",
   "language": "python",
   "name": "python3"
  },
  "language_info": {
   "codemirror_mode": {
    "name": "ipython",
    "version": 3
   },
   "file_extension": ".py",
   "mimetype": "text/x-python",
   "name": "python",
   "nbconvert_exporter": "python",
   "pygments_lexer": "ipython3",
   "version": "3.11.7"
  }
 },
 "nbformat": 4,
 "nbformat_minor": 2
}
